{
 "cells": [
  {
   "cell_type": "code",
   "execution_count": null,
   "metadata": {
    "collapsed": false
   },
   "outputs": [],
   "source": [
    "# 导入模块\n",
    "import pandas as pd\n",
    "import numpy as np\n",
    "# 构造序列\n",
    "gdp1 = pd.Series([2.8,3.01,8.99,8.59,5.18])\n",
    "gdp2 = pd.Series({'北京':2.8,'上海':3.01,'广东':8.99,'江苏':8.59,'浙江':5.18})\n",
    "gdp3 = pd.Series(np.array((2.8,3.01,8.99,8.59,5.18)))\n",
    "print(gdp1)\n",
    "print(gdp2)\n",
    "print(gdp3)"
   ]
  },
  {
   "cell_type": "code",
   "execution_count": null,
   "metadata": {
    "collapsed": false
   },
   "outputs": [],
   "source": [
    "# 取出gdp1中的第一、第四和第五个元素\n",
    "print('行号风格的序列：\\n',gdp1[[0,3,4]])\n",
    "# 取出gdp2中的第一、第四和第五个元素\n",
    "print('行名称风格的序列：\\n',gdp2[[0,3,4]])\n",
    "# 取出gdp2中上海、江苏和浙江的GDP值\n",
    "print('行名称风格的序列：\\n',gdp2[['上海','江苏','浙江']])\n",
    "# 数学函数--取对数\n",
    "print('通过numpy函数：\\n',np.log(gdp1))\n",
    "# 平均gdp\n",
    "print('通过numpy函数：\\n',np.mean(gdp1))\n",
    "print('通过序列的方法：\\n',gdp1.mean())"
   ]
  },
  {
   "cell_type": "code",
   "execution_count": null,
   "metadata": {
    "collapsed": false
   },
   "outputs": [],
   "source": [
    "# 构造数据框\n",
    "df1 = pd.DataFrame([['张三',23,'男'],['李四',27,'女'],['王二',26,'女']])\n",
    "df2 = pd.DataFrame({'姓名':['张三','李四','王二'],'年龄':[23,27,26],'性别':['男','女','女']})\n",
    "df3 = pd.DataFrame(np.array([['张三',23,'男'],['李四',27,'女'],['王二',26,'女']]))\n",
    "print('嵌套列表构造数据框：\\n',df1)\n",
    "print('字典构造数据框：\\n',df2)\n",
    "print('二维数组构造数据框：\\n',df3)"
   ]
  },
  {
   "cell_type": "code",
   "execution_count": null,
   "metadata": {
    "collapsed": false
   },
   "outputs": [],
   "source": [
    "# 读取文本文件中的数据\n",
    "user_income = pd.read_table(r'C:\\Users\\Administrator\\Desktop\\data_test01.txt', sep = ',', \n",
    "                            parse_dates={'birthday':[0,1,2]},skiprows=2, skipfooter=3, \n",
    "                            comment='#', encoding='utf8', thousands='&')\n",
    "user_income"
   ]
  },
  {
   "cell_type": "code",
   "execution_count": null,
   "metadata": {
    "collapsed": false
   },
   "outputs": [],
   "source": [
    "child_cloth = pd.read_excel(io = r'C:\\Users\\Administrator\\Desktop\\data_test02.xlsx', header = None, \n",
    "                           names = ['Prod_Id','Prod_Name','Prod_Color','Prod_Price'], converters = {0:str})\n",
    "child_cloth"
   ]
  },
  {
   "cell_type": "code",
   "execution_count": null,
   "metadata": {
    "collapsed": false
   },
   "outputs": [],
   "source": [
    "pd.read_excel(io = r'C:\\Users\\Administrator\\Desktop\\data_test02.xlsx', header = None, \n",
    "                           names = ['Prod_Id','Prod_Name','Prod_Color','Prod_Price'])"
   ]
  },
  {
   "cell_type": "code",
   "execution_count": null,
   "metadata": {
    "collapsed": false
   },
   "outputs": [],
   "source": [
    "# 导入模块\n",
    "import pymysql\n",
    "# 连接MySQL数据库\n",
    "conn = pymysql.connect(host='localhost', user='root', password='1q2w3e4r', \n",
    "                database='test', port=3306, charset='utf8')\n",
    "# 读取数据\n",
    "user = pd.read_sql('select * from topy', conn)\n",
    "# 关闭连接\n",
    "conn.close()\n",
    "# 数据输出\n",
    "user"
   ]
  },
  {
   "cell_type": "code",
   "execution_count": null,
   "metadata": {
    "collapsed": false
   },
   "outputs": [],
   "source": [
    "# 导入第三方模块\n",
    "import pymssql\n",
    "# 连接SQL Server数据库\n",
    "connect = pymssql.connect(server = 'localhost', user = '', password = '',\n",
    "                      database = 'train', charset = 'utf8')\n",
    "# 读取数据\n",
    "data = pd.read_sql(\"select * from sec_buildings where direction = '朝南'\", con=connect)\n",
    "# 关闭连接\n",
    "connect.close()\n",
    "# 数据输出\n",
    "data.head()"
   ]
  },
  {
   "cell_type": "code",
   "execution_count": null,
   "metadata": {
    "collapsed": false
   },
   "outputs": [],
   "source": [
    "# 数据类型转换及描述统计\n",
    "# 数据读取\n",
    "sec_cars = pd.read_table(r'C:\\Users\\Administrator\\Desktop\\sec_cars.csv', sep = ',')\n",
    "# 预览数据的前五行\n",
    "sec_cars.head()\n",
    "# 查看数据的行列数\n",
    "print('数据集的行列数：\\n',sec_cars.shape)\n",
    "# 查看数据集每个变量的数据类型\n",
    "print('各变量的数据类型：\\n',sec_cars.dtypes)"
   ]
  },
  {
   "cell_type": "code",
   "execution_count": null,
   "metadata": {
    "collapsed": false
   },
   "outputs": [],
   "source": [
    "# 修改二手车上牌时间的数据类型\n",
    "sec_cars.Boarding_time = pd.to_datetime(sec_cars.Boarding_time, format = '%Y年%m月')\n",
    "# 修改二手车新车价格的数据类型\n",
    "sec_cars.New_price = sec_cars.New_price.str[:-1].astype('float')\n",
    "# 重新查看各变量数据类型\n",
    "sec_cars.dtypes"
   ]
  },
  {
   "cell_type": "code",
   "execution_count": null,
   "metadata": {
    "collapsed": false
   },
   "outputs": [],
   "source": [
    "# 数据的描述性统计\n",
    "sec_cars.describe()\n",
    "# 数据的形状特征\n",
    "# 挑出所有数值型变量\n",
    "num_variables = sec_cars.columns[sec_cars.dtypes !='object'][1:]\n",
    "# 自定义函数，计算偏度和峰度\n",
    "def skew_kurt(x):\n",
    "    skewness = x.skew()\n",
    "    kurtsis = x.kurt()\n",
    "    # 返回偏度值和峰度值\n",
    "    return pd.Series([skewness,kurtsis], index = ['Skew','Kurt'])\n",
    "# 运用apply方法\n",
    "sec_cars[num_variables].apply(func = skew_kurt, axis = 0)\n",
    "\n",
    "# 离散型变量的统计描述\n",
    "sec_cars.describe(include = ['object'])\n",
    "# 离散变量频次统计\n",
    "Freq = sec_cars.Discharge.value_counts()\n",
    "Freq_ratio = Freq/sec_cars.shape[0]\n",
    "Freq_df = pd.DataFrame({'Freq':Freq,'Freq_ratio':Freq_ratio})\n",
    "Freq_df.head()\n",
    "\n",
    "# 将行索引重设为变量\n",
    "Freq_df.reset_index(inplace = True)\n",
    "Freq_df.head()"
   ]
  },
  {
   "cell_type": "code",
   "execution_count": null,
   "metadata": {
    "collapsed": false
   },
   "outputs": [],
   "source": [
    "# 数据读入\n",
    "df = pd.read_excel(r'C:\\Users\\Administrator\\Desktop\\data_test03.xlsx')\n",
    "# 各变量数据类型\n",
    "print(df.dtypes)\n",
    "# 将birthday变量转换为日期型\n",
    "df.birthday = pd.to_datetime(df.birthday, format = '%Y/%m/%d')\n",
    "# 将手机号转换为字符串\n",
    "df.tel = df.tel.astype('str')\n",
    "# 新增年龄和工龄两列\n",
    "df['age'] = pd.datetime.today().year - df.birthday.dt.year\n",
    "df['workage'] = pd.datetime.today().year - df.start_work.dt.year\n",
    "# 将手机号中间四位隐藏起来\n",
    "df.tel = df.tel.apply(func = lambda x : x.replace(x[3:7], '****'))\n",
    "# 取出邮箱的域名\n",
    "df['email_domain'] = df.email.apply(func = lambda x : x.split('@')[1])\n",
    "# 取出用户的专业信息\n",
    "df['profession'] = df.other.str.findall('专业：(.*?)，')\n",
    "# 去除birthday、start_work和other变量\n",
    "df.drop(['birthday','start_work','other'], axis = 1, inplace = True)\n",
    "df.head()"
   ]
  },
  {
   "cell_type": "code",
   "execution_count": null,
   "metadata": {
    "collapsed": false
   },
   "outputs": [],
   "source": [
    "# 常用日期处理方法\n",
    "dates = pd.to_datetime(pd.Series(['1989-8-18 13:14:55','1995-2-16']), format = '%Y-%m-%d %H:%M:%S')\n",
    "print('返回日期值：\\n',dates.dt.date)\n",
    "print('返回季度：\\n',dates.dt.quarter)\n",
    "print('返回几点钟：\\n',dates.dt.hour)\n",
    "print('返回年中的天：\\n',dates.dt.dayofyear)\n",
    "print('返回年中的周：\\n',dates.dt.weekofyear)\n",
    "print('返回星期几的名称：\\n',dates.dt.weekday_name)\n",
    "print('返回月份的天数：\\n',dates.dt.days_in_month)"
   ]
  },
  {
   "cell_type": "code",
   "execution_count": null,
   "metadata": {
    "collapsed": false
   },
   "outputs": [],
   "source": [
    "# 数据清洗\n",
    "# 数据读入\n",
    "df = pd.read_excel(r'C:\\Users\\Administrator\\Desktop\\data_test04.xlsx')\n",
    "# 重复观测的检测\n",
    "print('数据集中是否存在重复观测：\\n',any(df.duplicated()))\n",
    "# 删除重复项\n",
    "df.drop_duplicates(inplace = True)\n",
    "df"
   ]
  },
  {
   "cell_type": "code",
   "execution_count": null,
   "metadata": {
    "collapsed": false
   },
   "outputs": [],
   "source": [
    "# 数据读入\n",
    "df = pd.read_excel(r'C:\\Users\\Administrator\\Desktop\\data_test05.xlsx')\n",
    "# 缺失观测的检测\n",
    "print('数据集中是否存在缺失值：\\n',any(df.isnull()))\n",
    "# 删除法之记录删除\n",
    "df.dropna()\n",
    "# 删除法之变量删除\n",
    "df.drop('age', axis = 1)\n",
    "# 替换法之前向替换\n",
    "df.fillna(method = 'ffill')\n",
    "# 替换法之后向替换\n",
    "df.fillna(method = 'bfill')\n",
    "# 替换法之常数替换\n",
    "df.fillna(value = 0)\n",
    "# 替换法之统计值替换\n",
    "df.fillna(value = {'gender':df.gender.mode()[0], 'age':df.age.mean(), 'income':df.income.median()})"
   ]
  },
  {
   "cell_type": "code",
   "execution_count": null,
   "metadata": {
    "collapsed": false
   },
   "outputs": [],
   "source": [
    "# 数据读入\n",
    "sunspots = pd.read_table(r'C:\\Users\\Administrator\\Desktop\\sunspots.csv', sep = ',')\n",
    "# 异常值检测之标准差法\n",
    "xbar = sunspots.counts.mean()\n",
    "xstd = sunspots.counts.std()\n",
    "print('标准差法异常值上限检测：\\n',any(sunspots.counts > xbar + 2 * xstd))\n",
    "print('标准差法异常值下限检测：\\n',any(sunspots.counts < xbar - 2 * xstd))\n",
    "# 异常值检测之箱线图法\n",
    "Q1 = sunspots.counts.quantile(q = 0.25)\n",
    "Q3 = sunspots.counts.quantile(q = 0.75)\n",
    "IQR = Q3 - Q1\n",
    "print('箱线图法异常值上限检测：\\n',any(sunspots.counts > Q3 + 1.5 * IQR))\n",
    "print('箱线图法异常值下限检测：\\n',any(sunspots.counts < Q1 - 1.5 * IQR))"
   ]
  },
  {
   "cell_type": "code",
   "execution_count": null,
   "metadata": {
    "collapsed": false
   },
   "outputs": [],
   "source": [
    "# 导入绘图模块\n",
    "import matplotlib.pyplot as plt \n",
    "# 设置绘图风格\n",
    "plt.style.use('ggplot')\n",
    "# 绘制直方图\n",
    "sunspots.counts.plot(kind = 'hist', bins = 30, normed = True)\n",
    "# 绘制核密度图\n",
    "sunspots.counts.plot(kind = 'kde')\n",
    "# 图形展现\n",
    "plt.show()"
   ]
  },
  {
   "cell_type": "code",
   "execution_count": null,
   "metadata": {
    "collapsed": false
   },
   "outputs": [],
   "source": [
    "# 替换法处理异常值\n",
    "print('异常值替换前的数据统计特征：\\n',sunspots.counts.describe())\n",
    "# 箱线图中的异常值判别上限\n",
    "UL = Q3 + 1.5 * IQR\n",
    "print('判别异常值的上限临界值：\\n',UL)\n",
    "# 从数据中找出低于判别上限的最大值\n",
    "replace_value = sunspots.counts[sunspots.counts < UL].max()\n",
    "print('用以替换异常值的数据：\\n',replace_value)\n",
    "# 替换超过判别上限异常值\n",
    "sunspots.counts[sunspots.counts > UL] = replace_value\n",
    "print('异常值替换后的数据统计特征：\\n',sunspots.counts.describe())"
   ]
  },
  {
   "cell_type": "code",
   "execution_count": null,
   "metadata": {
    "collapsed": false
   },
   "outputs": [],
   "source": [
    "# 数据子集的获取\n",
    "# 构造数据集\n",
    "df1 = pd.DataFrame({'name':['张三','李四','王二','丁一','李五'], \n",
    "                    'gender':['男','女','女','女','男'], \n",
    "                    'age':[23,26,22,25,27]}, columns = ['name','gender','age'])\n",
    "df1\n",
    "# 取出数据集的中间三行(即所有女性)，并且返回姓名和年龄两列\n",
    "df1.iloc[1:4,[0,2]]     \n",
    "df1.loc[1:3, ['name','age']]\n",
    "df1.ix[1:3,[0,2]]\n",
    "\n",
    "# 将员工的姓名用作行标签\n",
    "df2 = df1.set_index('name')\n",
    "df2\n",
    "# 取出数据集的中间三行\n",
    "df2.iloc[1:4,:]\n",
    "df2.loc[['李四','王二','丁一'],:]\n",
    "df2.ix[1:4,:]\n",
    "\n",
    "# 使用筛选条件，取出所有男性的姓名和年龄\n",
    "# df1.iloc[df1.gender == '男',]\n",
    "df1.loc[df1.gender == '男',['name','age']]\n",
    "df1.ix[df1.gender == '男',['name','age']]"
   ]
  },
  {
   "cell_type": "code",
   "execution_count": null,
   "metadata": {
    "collapsed": false
   },
   "outputs": [],
   "source": [
    "# 数据读取\n",
    "diamonds = pd.read_table(r'C:\\Users\\Administrator\\Desktop\\diamonds.csv', sep = ',')\n",
    "# 单个分组变量的均值统计\n",
    "pd.pivot_table(data = diamonds, index = 'color', values = 'price', margins = True, margins_name = '总计')\n",
    "# 两个分组变量的列联表\n",
    "# 导入numpy模块\n",
    "import numpy as np\n",
    "pd.pivot_table(data = diamonds, index = 'clarity', columns = 'cut', values = 'carat', \n",
    "               aggfunc = np.size,margins = True, margins_name = '总计')"
   ]
  },
  {
   "cell_type": "code",
   "execution_count": null,
   "metadata": {
    "collapsed": false
   },
   "outputs": [],
   "source": [
    "# 构造数据集df1和df2\n",
    "df1 = pd.DataFrame({'name':['张三','李四','王二'], 'age':[21,25,22], 'gender':['男','女','男']})\n",
    "df2 = pd.DataFrame({'name':['丁一','赵五'], 'age':[23,22], 'gender':['女','女']},)\n",
    "# 数据集的纵向合并\n",
    "pd.concat([df1,df2], keys = ['df1','df2'], )\n",
    "\n",
    "# 如果df2数据集中的“姓名变量为Name”\n",
    "df2 = pd.DataFrame({'Name':['丁一','赵五'], 'age':[23,22], 'gender':['女','女']})\n",
    "# 数据集的纵向合并\n",
    "pd.concat([df1,df2])"
   ]
  },
  {
   "cell_type": "code",
   "execution_count": null,
   "metadata": {
    "collapsed": false
   },
   "outputs": [],
   "source": [
    "# 构造数据集\n",
    "df3 = pd.DataFrame({'id':[1,2,3,4,5],'name':['张三','李四','王二','丁一','赵五'],'age':[27,24,25,23,25],'gender':['男','男','男','女','女']})\n",
    "df4 = pd.DataFrame({'Id':[1,2,2,4,4,4,5],'kemu':['科目1','科目1','科目2','科目1','科目2','科目3','科目1'],'score':[83,81,87,75,86,74,88]})\n",
    "df5 = pd.DataFrame({'id':[1,3,5],'name':['张三','王二','赵五'],'income':[13500,18000,15000]})\n",
    "# 三表的数据连接\n",
    "# 首先df3和df4连接\n",
    "merge1 = pd.merge(left = df3, right = df4, how = 'left', left_on='id', right_on='Id')\n",
    "merge1\n",
    "# 再将连接结果与df5连接\n",
    "merge2 = pd.merge(left = merge1, right = df5, how = 'left')\n",
    "merge2"
   ]
  },
  {
   "cell_type": "code",
   "execution_count": null,
   "metadata": {
    "collapsed": false
   },
   "outputs": [],
   "source": [
    "# 通过groupby方法，指定分组变量\n",
    "grouped = diamonds.groupby(by = ['color','cut'])\n",
    "# 对分组变量进行统计汇总\n",
    "result = grouped.aggregate({'color':np.size, 'carat':np.min, 'price':np.mean, 'face_width':np.max})\n",
    "# 调整变量名的顺序\n",
    "result = pd.DataFrame(result, columns=['color','carat','price','face_width'])\n",
    "# 数据集重命名\n",
    "result.rename(columns={'color':'counts','carat':'min_weight','price':'avg_price','face_width':'max_face_width'}, inplace=True)\n",
    "# 将行索引变量数据框的变量\n",
    "result.reset_index(inplace=True)\n",
    "result"
   ]
  }
 ],
 "metadata": {
  "anaconda-cloud": {},
  "kernelspec": {
   "display_name": "Python [Root]",
   "language": "python",
   "name": "Python [Root]"
  },
  "language_info": {
   "codemirror_mode": {
    "name": "ipython",
    "version": 3
   },
   "file_extension": ".py",
   "mimetype": "text/x-python",
   "name": "python",
   "nbconvert_exporter": "python",
   "pygments_lexer": "ipython3",
   "version": "3.5.2"
  }
 },
 "nbformat": 4,
 "nbformat_minor": 0
}
