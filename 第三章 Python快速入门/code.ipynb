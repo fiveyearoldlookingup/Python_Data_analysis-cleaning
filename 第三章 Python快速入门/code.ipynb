{
 "cells": [
  {
   "cell_type": "markdown",
   "metadata": {},
   "source": [
    "3.1 数据结构及方法\n",
    "本节介绍的Python数据结构，并非等同于数据库中的数据结构，而是指列表、元组和字典，他们都属于储存数据的容器。\n",
    "如何构建和灵活使用这三种数据结构将是本节的主要内容\n"
   ]
  },
  {
   "cell_type": "markdown",
   "metadata": {},
   "source": [
    "3.1.1列表\n"
   ]
  }
 ],
 "metadata": {
  "language_info": {
   "name": "python"
  }
 },
 "nbformat": 4,
 "nbformat_minor": 2
}
