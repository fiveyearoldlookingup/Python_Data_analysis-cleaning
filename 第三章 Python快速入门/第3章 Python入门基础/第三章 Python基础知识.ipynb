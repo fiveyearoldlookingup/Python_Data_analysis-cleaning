{
 "cells": [
  {
   "cell_type": "code",
   "execution_count": null,
   "metadata": {
    "collapsed": false
   },
   "outputs": [],
   "source": [
    "list1 = ['张三','男',33,'江苏','硕士','已婚',['身高178','体重72']]\n",
    "# 取出第一个元素\n",
    "print(list1[0])\n",
    "# 取出第四个元素\n",
    "print(list1[3])\n",
    "# 取出最后一个元素\n",
    "print(list1[6])\n",
    "# 取出“体重72”这个值\n",
    "print(list1[6][1])"
   ]
  },
  {
   "cell_type": "code",
   "execution_count": null,
   "metadata": {
    "collapsed": false
   },
   "outputs": [],
   "source": [
    "# 取出最后一个元素\n",
    "print(list1[-1])\n",
    "# 取出“身高178”这个值\n",
    "print(list1[-1][0])\n",
    "# 取出倒数第三个元素\n",
    "print(list1[-3])"
   ]
  },
  {
   "cell_type": "code",
   "execution_count": null,
   "metadata": {
    "collapsed": false
   },
   "outputs": [],
   "source": [
    "list2 = ['江苏','安徽','浙江','上海','山东','山西','湖南','湖北']\n",
    "# 取出“浙江”至“山西”四个元素\n",
    "print(list2[2:6])\n",
    "# 取出“安徽”、“上海”、“山西”三个元素\n",
    "print(list2[1:6:2])\n",
    "# 取出最后三个元素\n",
    "print(list2[-3:-1])"
   ]
  },
  {
   "cell_type": "code",
   "execution_count": null,
   "metadata": {
    "collapsed": false
   },
   "outputs": [],
   "source": [
    "# 取出头三个元素\n",
    "print(list2[:3])\n",
    "# 取出最后三个元素\n",
    "print(list2[-3:])\n",
    "# 取出所有元素\n",
    "print(list2[::])\n",
    "# 取出奇数位置的元素\n",
    "print(list2[::2])"
   ]
  },
  {
   "cell_type": "code",
   "execution_count": null,
   "metadata": {
    "collapsed": false
   },
   "outputs": [],
   "source": [
    "list3 = [1,10,100,1000,10000]\n",
    "# 在列表末尾添加数字2\n",
    "list3.append(2)\n",
    "print(list3)"
   ]
  },
  {
   "cell_type": "code",
   "execution_count": null,
   "metadata": {
    "collapsed": false
   },
   "outputs": [],
   "source": [
    "# 在列表末尾添加20,200,2000,20000四个值\n",
    "list3.extend([20,200,2000,20000])\n",
    "print(list3)"
   ]
  },
  {
   "cell_type": "code",
   "execution_count": null,
   "metadata": {
    "collapsed": false
   },
   "outputs": [],
   "source": [
    "# 在数字10后面增加11这个数字\n",
    "list3.insert(2,11)\n",
    "print(list3)\n",
    "# 在10000后面插入['a','b','c']\n",
    "list3.insert(6,['a','b','c'])\n",
    "print(list3)"
   ]
  },
  {
   "cell_type": "code",
   "execution_count": null,
   "metadata": {
    "collapsed": false
   },
   "outputs": [],
   "source": [
    "# 删除list3中20000这个元素\n",
    "list3.pop()\n",
    "print(list3)\n",
    "# 删除list3中11这个元素\n",
    "list3.pop(2)\n",
    "print(list3)"
   ]
  },
  {
   "cell_type": "code",
   "execution_count": null,
   "metadata": {
    "collapsed": false
   },
   "outputs": [],
   "source": [
    "# 删除list3中的['a', 'b', 'c']\n",
    "list3.remove(['a', 'b', 'c'])\n",
    "print(list3)"
   ]
  },
  {
   "cell_type": "code",
   "execution_count": null,
   "metadata": {
    "collapsed": false
   },
   "outputs": [],
   "source": [
    "# 删除list3中所有元素\n",
    "list3.clear()\n",
    "print(list3)"
   ]
  },
  {
   "cell_type": "code",
   "execution_count": null,
   "metadata": {
    "collapsed": false
   },
   "outputs": [],
   "source": [
    "list4 = ['洗衣机','冰响','电视机','电脑','空调']\n",
    "# 将“冰响”修改为“冰箱”\n",
    "print(list4[1])\n",
    "list4[1] = '冰箱'\n",
    "print(list4)"
   ]
  },
  {
   "cell_type": "code",
   "execution_count": null,
   "metadata": {
    "collapsed": false
   },
   "outputs": [],
   "source": [
    "list5 = [7,3,9,11,4,6,10,3,7,4,4,3,6,3]\n",
    "# 计算列表中元素3的个数\n",
    "print(list5.count(3))\n",
    "# 找出元素6所在的位置\n",
    "print(list5.index(6))\n",
    "# 列表元素的颠倒\n",
    "list5.reverse()\n",
    "print(list5)\n",
    "# 列表元素的降序\n",
    "list5.sort(reverse=True)\n",
    "print(list5)"
   ]
  },
  {
   "cell_type": "code",
   "execution_count": null,
   "metadata": {
    "collapsed": false
   },
   "outputs": [],
   "source": [
    "t = ('a','d','z','a','d','c','a')\n",
    "# 计数\n",
    "print(t.count('a'))\n",
    "# 元素位置\n",
    "print(t.index('c'))"
   ]
  },
  {
   "cell_type": "code",
   "execution_count": null,
   "metadata": {
    "collapsed": false
   },
   "outputs": [],
   "source": [
    "dict1 = {'姓名':'张三','年龄':33,'性别':'男','子女':{'儿子':'张四','女儿':'张美'},'兴趣':['踢球','游泳','唱歌']}\n",
    "# 打印字典\n",
    "print(dict1)\n",
    "# 取出年龄\n",
    "print(dict1['年龄'])\n",
    "# 取出子女中的儿子姓名\n",
    "print(dict1['子女']['儿子'])\n",
    "# 取出兴趣中的游泳\n",
    "print(dict1['兴趣'][1])"
   ]
  },
  {
   "cell_type": "code",
   "execution_count": null,
   "metadata": {
    "collapsed": false
   },
   "outputs": [],
   "source": [
    "# 往字典dict1中增加户籍信息\n",
    "dict1.setdefault('户籍','合肥')\n",
    "print(dict1)\n",
    "# 增加学历信息\n",
    "dict1.update({'学历':'硕士'})\n",
    "print(dict1)\n",
    "# 增加身高信息\n",
    "dict1['身高'] = 178\n",
    "print(dict1)"
   ]
  },
  {
   "cell_type": "code",
   "execution_count": null,
   "metadata": {
    "collapsed": false
   },
   "outputs": [],
   "source": [
    "# 删除字典中的户籍信息\n",
    "dict1.pop('户籍')\n",
    "print(dict1)\n",
    "# 删除字典中女儿的姓名\n",
    "dict1['子女'].pop('女儿')\n",
    "print(dict1)\n",
    "# 删除字典中的任意一个元素\n",
    "dict1.popitem()\n",
    "print(dict1)\n",
    "# 清空字典元素\n",
    "dict1.clear()\n",
    "print(dict1)"
   ]
  },
  {
   "cell_type": "code",
   "execution_count": null,
   "metadata": {
    "collapsed": false
   },
   "outputs": [],
   "source": [
    "# 将学历改为本科\n",
    "dict1.update({'学历':'本科'})\n",
    "print(dict1)\n",
    "# 将年龄改为35\n",
    "dict1['年龄'] = 35\n",
    "print(dict1)\n",
    "# 将兴趣中的唱歌改为跳舞\n",
    "dict1['兴趣'][2] = '跳舞'\n",
    "print(dict1)"
   ]
  },
  {
   "cell_type": "code",
   "execution_count": null,
   "metadata": {
    "collapsed": false
   },
   "outputs": [],
   "source": [
    "dict2 = {'电影':['三傻大闹宝莱坞','大话西游之大圣娶亲','疯狂动物城'],\n",
    "         '导演':['拉吉库马尔·希拉尼','刘镇伟','拜伦·霍华德 '],\n",
    "         '评分':[9.1,9.2,9.2]}\n",
    "\n",
    "# 取出键'评分'所对应的值\n",
    "print(dict2.get('评分'))\n",
    "# 取出字典中的所有键\n",
    "print(dict2.keys())\n",
    "# 取出字典中的所有值\n",
    "print(dict2.values())\n",
    "# 取出字典中的所有键值对\n",
    "print(dict2.items())"
   ]
  },
  {
   "cell_type": "code",
   "execution_count": null,
   "metadata": {
    "collapsed": false
   },
   "outputs": [],
   "source": [
    "# 返回绝对值\n",
    "x = -3\n",
    "if x >= 0:\n",
    "    print(x)\n",
    "else:\n",
    "    print(-1*x)"
   ]
  },
  {
   "cell_type": "code",
   "execution_count": null,
   "metadata": {
    "collapsed": false
   },
   "outputs": [],
   "source": [
    "# 返回成绩对应的等级\n",
    "score = 68\n",
    "if score < 60:\n",
    "    print('不及格')\n",
    "elif score < 70:\n",
    "    print('合格')\n",
    "elif score < 80:\n",
    "    print('良好')\n",
    "else:\n",
    "    print('优秀')"
   ]
  },
  {
   "cell_type": "code",
   "execution_count": null,
   "metadata": {
    "collapsed": false
   },
   "outputs": [],
   "source": [
    "# 将列表中的每个元素作平方加1处理\n",
    "list6 = [1,5,2,8,10,13,17,4,6]\n",
    "\n",
    "result = []\n",
    "for i in list6:\n",
    "    y = i ** 2 + 1\n",
    "    result.append(y)\n",
    "print(result)"
   ]
  },
  {
   "cell_type": "code",
   "execution_count": null,
   "metadata": {
    "collapsed": false
   },
   "outputs": [],
   "source": [
    "# 计算1到100之间的偶数和\n",
    "s1_100 = 0\n",
    "for i in range(1,101):\n",
    "    if i % 2 == 0:\n",
    "        s1_100 = s1_100 + i\n",
    "    else:\n",
    "        pass\n",
    "print('1到100之间的偶数和为%s'%s1_100)"
   ]
  },
  {
   "cell_type": "code",
   "execution_count": null,
   "metadata": {
    "collapsed": false
   },
   "outputs": [],
   "source": [
    "# 对列表中的偶数作三次方减10的处理\n",
    "list7 = [3,1,18,13,22,17,23,14,19,28,16]\n",
    "result = [i ** 3 - 10 for i in list7 if i % 2 == 0]\n",
    "print(result)"
   ]
  },
  {
   "cell_type": "code",
   "execution_count": null,
   "metadata": {
    "collapsed": false
   },
   "outputs": [],
   "source": [
    "# 使用for循环登录某手机银行APP\n",
    "for i in range(1,6):\n",
    "    user = input('请输入用户名：')\n",
    "    password = int(input('请输入密码：'))\n",
    "    if (user == 'test') & (password == 123):\n",
    "        print('登录成功！')\n",
    "        break\n",
    "    else:\n",
    "        if i < 5:\n",
    "            print('错误！您今日还剩%d次输入机会。' %(5-i))\n",
    "        else:\n",
    "            print('请24小时后再尝试登录！')"
   ]
  },
  {
   "cell_type": "code",
   "execution_count": null,
   "metadata": {
    "collapsed": false
   },
   "outputs": [],
   "source": [
    "# 使用while循环登录某邮箱账号\n",
    "while True:\n",
    "    user = input('请输入用户名：')\n",
    "    password = int(input('请输入密码：'))\n",
    "    if (user == 'test') & (password == 123):\n",
    "        print('登录成功！')\n",
    "        break\n",
    "    else:\n",
    "        print('您输入的用户名或密码错误！')"
   ]
  },
  {
   "cell_type": "code",
   "execution_count": null,
   "metadata": {
    "collapsed": false
   },
   "outputs": [],
   "source": [
    "print('dag%.2f' %2.123)"
   ]
  },
  {
   "cell_type": "code",
   "execution_count": null,
   "metadata": {
    "collapsed": false
   },
   "outputs": [],
   "source": [
    "# 单引号构造字符串\n",
    "string1 = '\"commentTime\":\"2018-01-26 08:59:30\",\"content\":\"包装良心！馅料新鲜！还会回购\"'\n",
    "# 双引号构造字符串\n",
    "string2 = \"ymd:'2017-01-01',bWendu:'5℃',yWendu:'-3℃',tianqi:'霾~晴',fengxiang:'南风',aqiInfo:'严重污染'\"\n",
    "# 三引号构造字符串\n",
    "string3 = ''''nickName':\"美美\",'content':\"环境不错，服务态度超好，就是有点小贵\",'createTimestring':\"2017-09-30\"'''\n",
    "string4 = '''据了解，持续降雪造成安徽部分地区农房倒损、种植养殖业大棚损毁，\n",
    "其中合肥、马鞍山、铜陵3市倒塌农房8间、紧急转移安置8人。'''\n",
    "print(string1)\n",
    "print(string2)\n",
    "print(string3)\n",
    "print(string4)"
   ]
  },
  {
   "cell_type": "code",
   "execution_count": null,
   "metadata": {
    "collapsed": false
   },
   "outputs": [],
   "source": [
    "# 获取身份证号码中的出生日期\n",
    "print('123456198901017890'[6:14])\n",
    "# 将手机号中的中间四位替换为四颗星\n",
    "tel = '13612345678'\n",
    "print(tel.replace(tel[3:7],'****'))\n",
    "# 将邮箱按@符分隔开\n",
    "print('12345@qq.com'.split('@'))\n",
    "# 将Python的每个字母用减号连接\n",
    "print('-'.join('Python'))\n",
    "# 删除\"  今天星期日  \"的首尾空白\n",
    "print(\"  今天星期日  \".strip())\n",
    "# 删除\"  今天星期日  \"的左边空白\n",
    "print(\"  今天星期日  \".lstrip())\n",
    "# 删除\"  今天星期日  \"的右边空白\n",
    "print(\"  今天星期日  \".rstrip())\n",
    "# 计算子串“中国”在字符串中的个数\n",
    "string5 = '中国方案引领世界前行，展现了中国应势而为、勇于担当的大国引领作用！'\n",
    "print(string5.count('中国'))\n",
    "# 查询\"Python\"单词所在的位置\n",
    "string6 = '我是一名Python用户，Python给我的工作带来了很多便捷。'\n",
    "print(string6.index('Python'))\n",
    "print(string6.find('Python'))\n",
    "# 字符串是否以“2018年”开头\n",
    "string7 = '2017年匆匆走过，迎来崭新的2018年'\n",
    "print(string7.startswith('2018年'))\n",
    "# 字符串是否以“2018年”年结尾\n",
    "print(string7.endswith('2018年'))"
   ]
  },
  {
   "cell_type": "code",
   "execution_count": null,
   "metadata": {
    "collapsed": false
   },
   "outputs": [],
   "source": [
    "# 导入第三方包\n",
    "import re\n",
    "# 取出出字符中所有的天气状态\n",
    "string8 = \"{ymd:'2018-01-01',tianqi:'晴',aqiInfo:'轻度污染'},{ymd:'2018-01-02',tianqi:'阴~小雨',aqiInfo:'优'},{ymd:'2018-01-03',tianqi:'小雨~中雨',aqiInfo:'优'},{ymd:'2018-01-04',tianqi:'中雨~小雨',aqiInfo:'优'}\"\n",
    "print(re.findall(\"tianqi:'(.*?)'\", string8))\n",
    "\n",
    "# 取出所有含O字母的单词\n",
    "string9  = 'Together, we discovered that a free market only thrives when there are rules to ensure competition and fair play, Our celebration of initiative and enterprise'\n",
    "print(re.findall('\\w*o\\w*',string9, flags = re.I))\n",
    "\n",
    "# 将标点符号、数字和字母删除\n",
    "string10 = '据悉，这次发运的4台蒸汽冷凝罐属于国际热核聚变实验堆（ITER）项目的核二级压力设备，先后完成了压力试验、真空试验、氦气检漏试验、千斤顶试验、吊耳载荷试验、叠装试验等验收试验。'\n",
    "print(re.sub('[，。、a-zA-Z0-9（）]','',string10))\n",
    "\n",
    "# 将每一部分的内容分割开\n",
    "string11 = '2室2厅 | 101.62平 | 低区/7层 | 朝南 \\n 上海未来 - 浦东 - 金杨 - 2005年建'\n",
    "split = re.split('[-\\|\\n]', string11)\n",
    "print(split)\n",
    "split_strip = [i.strip() for i in split]\n",
    "print(split_strip)"
   ]
  },
  {
   "cell_type": "code",
   "execution_count": null,
   "metadata": {
    "collapsed": false
   },
   "outputs": [],
   "source": [
    "# 统计列表中每个元素的频次\n",
    "list6 = ['A','A','B','A','A','B','C','B','C','B','B','D','C']\n",
    "\n",
    "# 构建空字典，用于频次统计数据的存储\n",
    "dict3 = {}\n",
    "# 循环计算\n",
    "for i in set(list6):\n",
    "    dict3[i] = list6.count(i)\n",
    "print(dict3)\n",
    "\n",
    "# 取出字典中的键值对\n",
    "key_value = list(dict3.items())\n",
    "print(key_value)\n",
    "\n",
    "# 列表排序\n",
    "key_value.sort()\n",
    "print(key_value)\n",
    "\n",
    "# 按频次高低排序\n",
    "key_value.sort(key = lambda x : x[1], reverse=True)\n",
    "print(key_value)"
   ]
  },
  {
   "cell_type": "code",
   "execution_count": null,
   "metadata": {
    "collapsed": false
   },
   "outputs": [],
   "source": [
    "# 猜数字\n",
    "def game(min,max):\n",
    "    import random\n",
    "    number = random.randint(min,max)  # 随机生成一个需要猜的数字\n",
    "    while True:\n",
    "        guess = float(input('请在%d到%d之间猜一个数字: ' %(min, max)))\n",
    "\n",
    "        if guess < number:\n",
    "            min = guess\n",
    "            print('不好意思，你猜的的数偏小了！请在%d到%d之间猜一个数！' %(min,max))\n",
    "        elif guess > number:\n",
    "            max = guess\n",
    "            print('不好意思，你猜的的数偏大了！请在%d到%d之间猜一个数！' %(min,max))\n",
    "        else:\n",
    "            print('恭喜你猜对了！')\n",
    "            print('游戏结束！')\n",
    "            break\n",
    "\n",
    "# 调用函数\n",
    "game(10,20)"
   ]
  },
  {
   "cell_type": "code",
   "execution_count": null,
   "metadata": {
    "collapsed": false
   },
   "outputs": [],
   "source": [
    "# 缺少位置参数值的传递\n",
    "game(min = 10)"
   ]
  },
  {
   "cell_type": "code",
   "execution_count": null,
   "metadata": {
    "collapsed": false
   },
   "outputs": [],
   "source": [
    "# 计算1到n的平方和\n",
    "def square_sum(n, p = 2):\n",
    "    result = sum([i ** p for i in range(1,n+1)])\n",
    "    return(n,p,result)\n",
    "\n",
    "print('1到%d的%d次方和为%d！' %square_sum(200))\n",
    "print('1到%d的%d次方和为%d！' %square_sum(200,3))"
   ]
  },
  {
   "cell_type": "code",
   "execution_count": null,
   "metadata": {
    "collapsed": false
   },
   "outputs": [],
   "source": [
    "# 两个数的求和\n",
    "def add(a,b):\n",
    "    s = sum([a,b])    \n",
    "    return(a,b,s)\n",
    "\n",
    "print('%d加%d的和为%d！' %add(10,13))"
   ]
  },
  {
   "cell_type": "code",
   "execution_count": null,
   "metadata": {
    "collapsed": false
   },
   "outputs": [],
   "source": [
    "# 任意个数的数据求和\n",
    "def adds(*args):\n",
    "    print(args)\n",
    "    s = sum(args)    \n",
    "    return(s)\n",
    "\n",
    "print('和为%d!' %adds(10,13,7,8,2))\n",
    "print('和为%d!' %adds(7,10,23,44,65,12,17))"
   ]
  },
  {
   "cell_type": "code",
   "execution_count": null,
   "metadata": {
    "collapsed": true
   },
   "outputs": [],
   "source": [
    "# 关键字参数\n",
    "def info_collection(tel, birthday, **kwargs):\n",
    "    user_info = {}   # 构造空字典，用于存储用户信息\n",
    "    user_info['tel'] = tel\n",
    "    user_info['birthday'] = birthday\n",
    "    user_info.update(kwargs)\n",
    "    # 用户信息返回\n",
    "    return(user_info)\n",
    "\n",
    "# 调用函数    \n",
    "info_collection(13612345678,'1990-01-01',nickname='月亮',gender = '女',edu = '硕士',income = 15000,add = '上海市浦东新区',interest = ['游泳','唱歌','看电影'])"
   ]
  },
  {
   "cell_type": "code",
   "execution_count": null,
   "metadata": {
    "collapsed": true
   },
   "outputs": [],
   "source": [
    "# 导入第三方包\n",
    "import requests\n",
    "import time\n",
    "import random\n",
    "import pandas as pd\n",
    "import re\n",
    "\n",
    "# 生成请求头\n",
    "headers = {\n",
    "'Accept':'*/*',\n",
    "'Accept-Encoding':'gzip, deflate',\n",
    "'Accept-Language':'zh-CN,zh;q=0.9',\n",
    "'Connection':'keep-alive',\n",
    "'Cookie':'widget_dz_id=54511; widget_dz_cityValues=,; timeerror=1; defaultCityID=54511; defaultCityName=%u5317%u4EAC; Hm_lvt_a3f2879f6b3620a363bec646b7a8bcdd=1516245199; Hm_lpvt_a3f2879f6b3620a363bec646b7a8bcdd=1516245199; addFavorite=clicked',\n",
    "'User-Agent':'Mozilla/5.0 (Windows NT 6.1; WOW64) AppleWebKit/537.36 (KHTML, like Gecko) Chrome/63.0.3236.0 Safari/537.36'\n",
    "}\n",
    "\n",
    "# 生成所有需要抓取的链接\n",
    "urls = []\n",
    "for year in range(2011,2018):\n",
    "    for month in range(1,13):\n",
    "        if year <= 2016:\n",
    "            urls.append('http://tianqi.2345.com/t/wea_history/js/58362_%s%s.js' %(year,month))\n",
    "        else:\n",
    "            if month<10:\n",
    "                urls.append('http://tianqi.2345.com/t/wea_history/js/%s0%s/58362_%s0%s.js' %(year,month,year,month))\n",
    "            else:\n",
    "                urls.append('http://tianqi.2345.com/t/wea_history/js/%s%s/58362_%s%s.js' %(year,month,year,month))\n",
    "urls\n",
    "\n",
    "# 循环并通过正则匹配获取相关数据\n",
    "info = []\n",
    "for url in urls:\n",
    "    seconds = random.randint(3,6)\n",
    "    response = requests.get(url, headers = headers).text\n",
    "    ymd = re.findall(\"ymd:'(.*?)',\",response)\n",
    "    high = re.findall(\"bWendu:'(.*?)℃',\",response)\n",
    "    low = re.findall(\"yWendu:'(.*?)℃',\",response)\n",
    "    tianqi = re.findall(\"tianqi:'(.*?)',\",response)\n",
    "    fengxiang = re.findall(\"fengxiang:'(.*?)',\",response)\n",
    "    fengli = re.findall(\",fengli:'(.*?)'\",response)\n",
    "    aqi = re.findall(\"aqi:'(.*?)',\",response)\n",
    "    aqiInfo = re.findall(\"aqiInfo:'(.*?)',\",response)\n",
    "    aqiLevel = re.findall(\",aqiLevel:'(.*?)'\",response)\n",
    "    \n",
    "\t# 由于2011~2015没有空气质量相关的数据，故需要分开处理\n",
    "    if len(aqi) == 0:\n",
    "        aqi = None\n",
    "        aqiInfo = None\n",
    "        aqiLevel = None\n",
    "        info.append(pd.DataFrame({'ymd':ymd,'high':high,'low':low,'tianqi':tianqi,'fengxiang':fengxiang,'fengli':fengli,'aqi':aqi,'aqiInfo':aqiInfo,'aqiLevel':aqiLevel}))\n",
    "    else:\n",
    "        info.append(pd.DataFrame({'ymd':ymd,'high':high,'low':low,'tianqi':tianqi,'fengxiang':fengxiang,'fengli':fengli,'aqi':aqi,'aqiInfo':aqiInfo,'aqiLevel':aqiLevel}))\n",
    "    time.sleep(seconds)\n",
    "\n",
    "# 生成数据表\n",
    "weather = pd.concat(info)\n",
    "# 数据导出\n",
    "weather.to_csv('weather.csv',index = False)"
   ]
  }
 ],
 "metadata": {
  "anaconda-cloud": {},
  "kernelspec": {
   "display_name": "Python [Root]",
   "language": "python",
   "name": "Python [Root]"
  },
  "language_info": {
   "codemirror_mode": {
    "name": "ipython",
    "version": 3
   },
   "file_extension": ".py",
   "mimetype": "text/x-python",
   "name": "python",
   "nbconvert_exporter": "python",
   "pygments_lexer": "ipython3",
   "version": "3.5.2"
  }
 },
 "nbformat": 4,
 "nbformat_minor": 0
}
