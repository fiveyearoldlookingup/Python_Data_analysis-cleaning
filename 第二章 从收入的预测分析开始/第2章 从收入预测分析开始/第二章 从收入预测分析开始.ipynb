{
 "cells": [
  {
   "cell_type": "code",
   "execution_count": null,
   "metadata": {
    "collapsed": false
   },
   "outputs": [],
   "source": [
    "# 导入第三方包\n",
    "import pandas as pd\n",
    "import numpy as np\n",
    "import seaborn as sns\n",
    "\n",
    "# 数据读取\n",
    "income = pd.read_excel(r'C:\\Users\\Administrator\\Desktop\\income.xlsx')\n",
    "\n",
    "# 查看数据集是否存在缺失值\n",
    "income.apply(lambda x:np.sum(x.isnull()))\n",
    "\n",
    "# 缺失值处理\n",
    "income.fillna(value = {'workclass':income.workclass.mode()[0],\n",
    "                              'occupation':income.occupation.mode()[0],\n",
    "                              'native-country':income['native-country'].mode()[0]}, inplace = True)\n",
    "income.head()"
   ]
  },
  {
   "cell_type": "code",
   "execution_count": null,
   "metadata": {
    "collapsed": false
   },
   "outputs": [],
   "source": [
    "# 数据的探索性分析\n",
    "income.describe()\n",
    "\n",
    "income.describe(include =[ 'object'])"
   ]
  },
  {
   "cell_type": "code",
   "execution_count": null,
   "metadata": {
    "collapsed": false
   },
   "outputs": [],
   "source": [
    "# 导入绘图模块\n",
    "import matplotlib.pyplot as plt\n",
    "# 设置绘图风格\n",
    "plt.style.use('ggplot')\n",
    "# 设置多图形的组合\n",
    "fig, axes = plt.subplots(2, 1)\n",
    "# 绘制不同收入水平下的年龄核密度图\n",
    "income.age[income.income == ' <=50K'].plot(kind = 'kde', label = '<=50K', ax = axes[0], legend = True, linestyle = '-')\n",
    "income.age[income.income == ' >50K'].plot(kind = 'kde', label = '>50K', ax = axes[0], legend = True, linestyle = '--')\n",
    "# 绘制不同收入水平下的周工作小时数和密度图\n",
    "income['hours-per-week'][income.income == ' <=50K'].plot(kind = 'kde', label = '<=50K', ax = axes[1], legend = True, linestyle = '-')\n",
    "income['hours-per-week'][income.income == ' >50K'].plot(kind = 'kde', label = '>50K', ax = axes[1], legend = True, linestyle = '--')\n",
    "# 显示图形\n",
    "plt.show()"
   ]
  },
  {
   "cell_type": "code",
   "execution_count": null,
   "metadata": {
    "collapsed": false
   },
   "outputs": [],
   "source": [
    "# 构造不同收入水平下各种族人数的数据\n",
    "race = pd.DataFrame(income.groupby(by = ['race','income']).aggregate(np.size).loc[:,'age'])\n",
    "# 重设行索引\n",
    "race = race.reset_index()\n",
    "# 变量重命名\n",
    "race.rename(columns={'age':'counts'}, inplace=True)\n",
    "# 排序\n",
    "race.sort_values(by = ['race','counts'], ascending=False, inplace=True)\n",
    "\n",
    "# 构造不同收入水平下各家庭关系人数的数据\n",
    "relationship = pd.DataFrame(income.groupby(by = ['relationship','income']).aggregate(np.size).loc[:,'age'])\n",
    "relationship = relationship.reset_index()\n",
    "relationship.rename(columns={'age':'counts'}, inplace=True)\n",
    "relationship.sort_values(by = ['relationship','counts'], ascending=False, inplace=True)\n",
    "\n",
    "# 设置图框比例，并绘图\n",
    "plt.figure(figsize=(9,5))\n",
    "sns.barplot(x=\"race\", y=\"counts\", hue = 'income', data=race)\n",
    "plt.show()\n",
    "\n",
    "plt.figure(figsize=(9,5))\n",
    "sns.barplot(x=\"relationship\", y=\"counts\", hue = 'income', data=relationship)\n",
    "plt.show()"
   ]
  },
  {
   "cell_type": "code",
   "execution_count": null,
   "metadata": {
    "collapsed": false
   },
   "outputs": [],
   "source": [
    "# 离散变量的重编码\n",
    "for feature in income.columns:\n",
    "    if income[feature].dtype == 'object':\n",
    "        income[feature] = pd.Categorical(income[feature]).codes\n",
    "income.head()"
   ]
  },
  {
   "cell_type": "code",
   "execution_count": null,
   "metadata": {
    "collapsed": false
   },
   "outputs": [],
   "source": [
    "# 删除变量\n",
    "income.drop(['education','fnlwgt'], axis = 1, inplace = True)\n",
    "income.head()"
   ]
  },
  {
   "cell_type": "code",
   "execution_count": null,
   "metadata": {
    "collapsed": false
   },
   "outputs": [],
   "source": [
    "# 数据拆分\n",
    "from sklearn.cross_validation import train_test_split\n",
    "X_train, X_test, y_train, y_test = train_test_split(income.loc[:,'age':'native-country'], \n",
    "                                                    income['income'], train_size = 0.75, \n",
    "                                                    random_state = 1234)\n",
    "print('训练数据集共有%d条观测' %X_train.shape[0])\n",
    "print('测试数据集共有%d条观测' %X_test.shape[0])"
   ]
  },
  {
   "cell_type": "code",
   "execution_count": null,
   "metadata": {
    "collapsed": false
   },
   "outputs": [],
   "source": [
    "# 导入k近邻模型的类\n",
    "from sklearn.neighbors import KNeighborsClassifier\n",
    "# 构建k近邻模型\n",
    "kn = KNeighborsClassifier()\n",
    "kn.fit(X_train, y_train)\n",
    "print(kn)\n",
    "\n",
    "# 预测测试集\n",
    "kn_pred = kn.predict(X_test)\n",
    "print(pd.crosstab(kn_pred, y_test))\n",
    "\n",
    "# 模型得分\n",
    "print('模型在训练集上的准确率%f' %kn.score(X_train,y_train))\n",
    "print('模型在测试集上的准确率%f' %kn.score(X_test,y_test))\n",
    "\n",
    "# # 导入模型评估模块\n",
    "from sklearn import metrics\n",
    "\n",
    "# 计算ROC曲线的x轴和y轴数据\n",
    "fpr, tpr, _ = metrics.roc_curve(y_test,  kn.predict_proba(X_test)[:,1])\n",
    "# 绘制ROC曲线\n",
    "plt.plot(fpr, tpr, linestyle = 'solid', color = 'red')\n",
    "# 添加阴影\n",
    "plt.stackplot(fpr, tpr, color = 'steelblue')\n",
    "# 绘制参考线\n",
    "plt.plot([0,1],[0,1], linestyle = 'dashed', color = 'black')\n",
    "# 往图中添加文本\n",
    "plt.text(0.6,0.4,'AUC=%.3f' % metrics.auc(fpr,tpr), fontdict = dict(size = 18))\n",
    "plt.show()"
   ]
  },
  {
   "cell_type": "code",
   "execution_count": null,
   "metadata": {
    "collapsed": false
   },
   "outputs": [],
   "source": [
    "# 导入GBDT模型的类\n",
    "from sklearn.ensemble import GradientBoostingClassifier\n",
    "# 构建GBDT模型\n",
    "gbdt = GradientBoostingClassifier()\n",
    "gbdt.fit(X_train, y_train)\n",
    "print(gbdt)\n",
    "\n",
    "# 预测测试集\n",
    "gbdt_pred = gbdt.predict(X_test)\n",
    "print(pd.crosstab(gbdt_pred, y_test))\n",
    "\n",
    "# 模型得分\n",
    "print('模型在训练集上的准确率%f' %gbdt.score(X_train,y_train))\n",
    "print('模型在测试集上的准确率%f' %gbdt.score(X_test,y_test))\n",
    "\n",
    "# 绘制ROC曲线\n",
    "fpr, tpr, _ = metrics.roc_curve(y_test, gbdt.predict_proba(X_test)[:,1])\n",
    "plt.plot(fpr, tpr, linestyle = 'solid', color = 'red')\n",
    "plt.stackplot(fpr, tpr, color = 'steelblue')\n",
    "plt.plot([0,1],[0,1], linestyle = 'dashed', color = 'black')\n",
    "plt.text(0.6,0.4,'AUC=%.3f' % metrics.auc(fpr,tpr), fontdict = dict(size = 18))\n",
    "plt.show()"
   ]
  },
  {
   "cell_type": "code",
   "execution_count": null,
   "metadata": {
    "collapsed": false
   },
   "outputs": [],
   "source": [
    "# K近邻模型的网格搜索法\n",
    "# 导入网格搜索法的函数\n",
    "from sklearn.grid_search import GridSearchCV\n",
    "# 选择不同的参数\n",
    "k_options = list(range(1,12))\n",
    "parameters = {'n_neighbors':k_options}\n",
    "# 搜索不同的K值\n",
    "grid_kn = GridSearchCV(estimator = KNeighborsClassifier(), param_grid = parameters, cv=10, scoring='accuracy', verbose=0, n_jobs=2)\n",
    "grid_kn.fit(X_train, y_train)\n",
    "print(grid_kn)\n",
    "# 结果输出\n",
    "grid_kn.grid_scores_, grid_kn.best_params_, grid_kn.best_score_  "
   ]
  },
  {
   "cell_type": "code",
   "execution_count": null,
   "metadata": {
    "collapsed": false
   },
   "outputs": [],
   "source": [
    "# 预测测试集\n",
    "grid_kn_pred = grid_kn.predict(X_test)\n",
    "print(pd.crosstab(grid_kn_pred, y_test))\n",
    "\n",
    "# 模型得分\n",
    "print('模型在训练集上的准确率%f' %grid_kn.score(X_train,y_train))\n",
    "print('模型在测试集上的准确率%f' %grid_kn.score(X_test,y_test))\n",
    "\n",
    "# 绘制ROC曲线\n",
    "fpr, tpr, _ = metrics.roc_curve(y_test, grid_kn.predict_proba(X_test)[:,1])\n",
    "plt.plot(fpr, tpr, linestyle = 'solid', color = 'red')\n",
    "plt.stackplot(fpr, tpr, color = 'steelblue')\n",
    "plt.plot([0,1],[0,1], linestyle = 'dashed', color = 'black')\n",
    "plt.text(0.6,0.4,'AUC=%.3f' % metrics.auc(fpr,tpr), fontdict = dict(size = 18))\n",
    "plt.show()"
   ]
  },
  {
   "cell_type": "code",
   "execution_count": null,
   "metadata": {
    "collapsed": false
   },
   "outputs": [],
   "source": [
    "# GBDT模型的网格搜索法\n",
    "# 选择不同的参数\n",
    "learning_rate_options = [0.01,0.05,0.1]\n",
    "max_depth_options = [3,5,7,9]\n",
    "n_estimators_options = [100,300,500]\n",
    "parameters = {'learning_rate':learning_rate_options,'max_depth':max_depth_options,'n_estimators':n_estimators_options}\n",
    "\n",
    "grid_gbdt = GridSearchCV(estimator = GradientBoostingClassifier(), param_grid = parameters, cv=10, scoring='accuracy', n_jobs=4)\n",
    "grid_gbdt.fit(X_train, y_train)\n",
    "\n",
    "# 结果输出\n",
    "grid_gbdt.grid_scores_, grid_gbdt.best_params_, grid_gbdt.best_score_  "
   ]
  },
  {
   "cell_type": "code",
   "execution_count": null,
   "metadata": {
    "collapsed": false
   },
   "outputs": [],
   "source": [
    "# 预测测试集\n",
    "grid_gbdt_pred = grid_gbdt.predict(X_test)\n",
    "print(pd.crosstab(grid_gbdt_pred, y_test))\n",
    "\n",
    "# 模型得分\n",
    "print('模型在训练集上的准确率%f' %grid_gbdt.score(X_train,y_train))\n",
    "print('模型在测试集上的准确率%f' %grid_gbdt.score(X_test,y_test))\n",
    "\n",
    "# 绘制ROC曲线\n",
    "fpr, tpr, _ = metrics.roc_curve(y_test, grid_gbdt_pred)\n",
    "plt.plot(fpr, tpr, linestyle = 'solid', color = 'red')\n",
    "plt.stackplot(fpr, tpr, color = 'steelblue')\n",
    "plt.plot([0,1],[0,1], linestyle = 'dashed', color = 'black')\n",
    "plt.text(0.6,0.4,'AUC=%.3f' % metrics.auc(fpr,tpr), fontdict = dict(size = 18))\n",
    "plt.show()"
   ]
  }
 ],
 "metadata": {
  "anaconda-cloud": {},
  "kernelspec": {
   "display_name": "Python [Root]",
   "language": "python",
   "name": "Python [Root]"
  },
  "language_info": {
   "codemirror_mode": {
    "name": "ipython",
    "version": 3
   },
   "file_extension": ".py",
   "mimetype": "text/x-python",
   "name": "python",
   "nbconvert_exporter": "python",
   "pygments_lexer": "ipython3",
   "version": "3.5.2"
  }
 },
 "nbformat": 4,
 "nbformat_minor": 0
}
